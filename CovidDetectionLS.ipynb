{
  "nbformat": 4,
  "nbformat_minor": 0,
  "metadata": {
    "colab": {
      "name": "CovidDetectionLS.ipynb",
      "provenance": [],
      "collapsed_sections": []
    },
    "kernelspec": {
      "name": "python3",
      "display_name": "Python 3"
    },
    "language_info": {
      "name": "python"
    },
    "accelerator": "GPU",
    "gpuClass": "standard"
  },
  "cells": [
    {
      "cell_type": "code",
      "execution_count": 2,
      "metadata": {
        "id": "qmN-3efCuE-9"
      },
      "outputs": [],
      "source": [
        "import pandas as pd\n",
        "import numpy as np\n",
        "import os\n",
        "import matplotlib.pyplot as plt\n",
        "import math\n",
        "\n",
        "import keras\n",
        "from keras import models\n",
        "from keras import layers\n",
        "from keras import optimizers\n",
        "from keras.models import Sequential\n",
        "from keras.layers import Dense, Conv2D , SeparableConv2D, MaxPooling2D , Flatten , Dropout , BatchNormalization, Activation\n",
        "from keras.preprocessing.image import ImageDataGenerator, array_to_img, img_to_array, load_img\n",
        "from keras.callbacks import ReduceLROnPlateau \n",
        "from keras import backend as K\n",
        "from keras import optimizers\n",
        "from sklearn.metrics import classification_report, recall_score, precision_score, confusion_matrix, f1_score, accuracy_score\n",
        "import tensorflow as tf"
      ]
    },
    {
      "cell_type": "code",
      "source": [
        "train_data_dir = '/content/drive/MyDrive/ZahidVai/lungSegdataset/train/'\n",
        "test_data_dir = '/content/drive/MyDrive/ZahidVai/lungSegdataset/test/'"
      ],
      "metadata": {
        "id": "9SeAsQz9uha9"
      },
      "execution_count": 3,
      "outputs": []
    },
    {
      "cell_type": "code",
      "source": [
        "train_datagen = ImageDataGenerator(\n",
        "        rescale=1./255,\n",
        "        # zoom_range=0.4,\n",
        "        validation_split=0.2\n",
        "        )\n",
        "\n",
        "train_gen = train_datagen.flow_from_directory(\n",
        "        directory = train_data_dir,\n",
        "        target_size=(256, 256),\n",
        "        batch_size=32,\n",
        "        class_mode='categorical',\n",
        "        subset='training'\n",
        "        )\n",
        "val_gen = train_datagen.flow_from_directory(\n",
        "        directory = train_data_dir,\n",
        "        target_size=(256, 256),\n",
        "        batch_size=32,\n",
        "        class_mode='categorical',\n",
        "        subset='validation'\n",
        "        )"
      ],
      "metadata": {
        "colab": {
          "base_uri": "https://localhost:8080/"
        },
        "id": "ae3AbugVvFiJ",
        "outputId": "9fe64b9f-ae59-43f9-c6f0-c7b6a0b960c6"
      },
      "execution_count": 5,
      "outputs": [
        {
          "output_type": "stream",
          "name": "stdout",
          "text": [
            "Found 1323 images belonging to 2 classes.\n",
            "Found 330 images belonging to 2 classes.\n"
          ]
        }
      ]
    },
    {
      "cell_type": "code",
      "source": [
        "test_datagen = ImageDataGenerator(\n",
        "        rescale=1./255\n",
        "        )\n",
        "test_gen = test_datagen.flow_from_directory(\n",
        "    directory = test_data_dir,\n",
        "    target_size=(256,256),\n",
        "    batch_size = 32,\n",
        "    class_mode = 'categorical',\n",
        "    shuffle = True\n",
        ")"
      ],
      "metadata": {
        "colab": {
          "base_uri": "https://localhost:8080/"
        },
        "id": "xquJOe9Yvz3r",
        "outputId": "d55045b0-e460-4485-c7c3-b12bab504afa"
      },
      "execution_count": 6,
      "outputs": [
        {
          "output_type": "stream",
          "name": "stdout",
          "text": [
            "Found 94 images belonging to 2 classes.\n"
          ]
        }
      ]
    },
    {
      "cell_type": "code",
      "source": [
        "image_size = (256,256,3)"
      ],
      "metadata": {
        "id": "CzgE2kTqzsfr"
      },
      "execution_count": 7,
      "outputs": []
    },
    {
      "cell_type": "code",
      "source": [
        "model=Sequential([\n",
        "    Conv2D(32,(3,3),activation='relu',input_shape=image_size),\n",
        "    MaxPooling2D(pool_size=(2,2)),\n",
        "    Conv2D(64,(3,3),activation='relu'),\n",
        "    MaxPooling2D(pool_size=(2,2)),\n",
        "    Flatten(),\n",
        "    Dense(128,activation='relu'),\n",
        "    Dropout(0.5),\n",
        "    Dense(2,activation='softmax')\n",
        "])"
      ],
      "metadata": {
        "id": "tlvNyC9Ex_iR"
      },
      "execution_count": 8,
      "outputs": []
    },
    {
      "cell_type": "code",
      "source": [
        "model.compile(loss='binary_crossentropy',optimizer='adam',metrics = ['acc'])"
      ],
      "metadata": {
        "id": "zqFimOJWzhQM"
      },
      "execution_count": 9,
      "outputs": []
    },
    {
      "cell_type": "code",
      "source": [
        "model.summary()"
      ],
      "metadata": {
        "colab": {
          "base_uri": "https://localhost:8080/"
        },
        "id": "6aR6OQC_zwEF",
        "outputId": "18ca8966-5f01-4584-a816-1d927f6b8c21"
      },
      "execution_count": 10,
      "outputs": [
        {
          "output_type": "stream",
          "name": "stdout",
          "text": [
            "Model: \"sequential\"\n",
            "_________________________________________________________________\n",
            " Layer (type)                Output Shape              Param #   \n",
            "=================================================================\n",
            " conv2d (Conv2D)             (None, 254, 254, 32)      896       \n",
            "                                                                 \n",
            " max_pooling2d (MaxPooling2D  (None, 127, 127, 32)     0         \n",
            " )                                                               \n",
            "                                                                 \n",
            " conv2d_1 (Conv2D)           (None, 125, 125, 64)      18496     \n",
            "                                                                 \n",
            " max_pooling2d_1 (MaxPooling  (None, 62, 62, 64)       0         \n",
            " 2D)                                                             \n",
            "                                                                 \n",
            " flatten (Flatten)           (None, 246016)            0         \n",
            "                                                                 \n",
            " dense (Dense)               (None, 128)               31490176  \n",
            "                                                                 \n",
            " dropout (Dropout)           (None, 128)               0         \n",
            "                                                                 \n",
            " dense_1 (Dense)             (None, 2)                 258       \n",
            "                                                                 \n",
            "=================================================================\n",
            "Total params: 31,509,826\n",
            "Trainable params: 31,509,826\n",
            "Non-trainable params: 0\n",
            "_________________________________________________________________\n"
          ]
        }
      ]
    },
    {
      "cell_type": "code",
      "source": [
        "from keras.callbacks import EarlyStopping\n",
        "Early_stop = EarlyStopping(monitor = 'val_acc',patience = 15)"
      ],
      "metadata": {
        "id": "b3Vm_lPvzxz5"
      },
      "execution_count": 12,
      "outputs": []
    },
    {
      "cell_type": "code",
      "source": [
        "history = model.fit(train_gen, validation_data=val_gen, epochs=50, callbacks=[Early_stop])"
      ],
      "metadata": {
        "colab": {
          "base_uri": "https://localhost:8080/"
        },
        "id": "qW6eYHw3z8Ia",
        "outputId": "07462076-9639-4d6c-b5e5-36b106302954"
      },
      "execution_count": 13,
      "outputs": [
        {
          "output_type": "stream",
          "name": "stdout",
          "text": [
            "Epoch 1/50\n",
            "42/42 [==============================] - 172s 4s/step - loss: 0.8782 - acc: 0.8511 - val_loss: 0.2452 - val_acc: 0.9242\n",
            "Epoch 2/50\n",
            "42/42 [==============================] - 8s 188ms/step - loss: 0.1636 - acc: 0.9426 - val_loss: 0.1331 - val_acc: 0.9515\n",
            "Epoch 3/50\n",
            "42/42 [==============================] - 8s 188ms/step - loss: 0.1118 - acc: 0.9607 - val_loss: 0.1082 - val_acc: 0.9606\n",
            "Epoch 4/50\n",
            "42/42 [==============================] - 8s 189ms/step - loss: 0.0955 - acc: 0.9675 - val_loss: 0.1084 - val_acc: 0.9606\n",
            "Epoch 5/50\n",
            "42/42 [==============================] - 8s 186ms/step - loss: 0.0838 - acc: 0.9713 - val_loss: 0.0916 - val_acc: 0.9727\n",
            "Epoch 6/50\n",
            "42/42 [==============================] - 8s 186ms/step - loss: 0.0646 - acc: 0.9773 - val_loss: 0.1090 - val_acc: 0.9697\n",
            "Epoch 7/50\n",
            "42/42 [==============================] - 8s 188ms/step - loss: 0.0569 - acc: 0.9781 - val_loss: 0.1055 - val_acc: 0.9697\n",
            "Epoch 8/50\n",
            "42/42 [==============================] - 8s 185ms/step - loss: 0.0474 - acc: 0.9864 - val_loss: 0.0903 - val_acc: 0.9818\n",
            "Epoch 9/50\n",
            "42/42 [==============================] - 8s 185ms/step - loss: 0.0462 - acc: 0.9856 - val_loss: 0.1080 - val_acc: 0.9667\n",
            "Epoch 10/50\n",
            "42/42 [==============================] - 8s 185ms/step - loss: 0.0618 - acc: 0.9758 - val_loss: 0.1030 - val_acc: 0.9758\n",
            "Epoch 11/50\n",
            "42/42 [==============================] - 8s 190ms/step - loss: 0.0362 - acc: 0.9894 - val_loss: 0.1011 - val_acc: 0.9788\n",
            "Epoch 12/50\n",
            "42/42 [==============================] - 8s 187ms/step - loss: 0.0388 - acc: 0.9872 - val_loss: 0.0992 - val_acc: 0.9727\n",
            "Epoch 13/50\n",
            "42/42 [==============================] - 8s 186ms/step - loss: 0.0263 - acc: 0.9932 - val_loss: 0.0984 - val_acc: 0.9848\n",
            "Epoch 14/50\n",
            "42/42 [==============================] - 8s 186ms/step - loss: 0.0245 - acc: 0.9940 - val_loss: 0.0912 - val_acc: 0.9818\n",
            "Epoch 15/50\n",
            "42/42 [==============================] - 8s 192ms/step - loss: 0.0147 - acc: 0.9970 - val_loss: 0.0993 - val_acc: 0.9848\n",
            "Epoch 16/50\n",
            "42/42 [==============================] - 8s 191ms/step - loss: 0.0331 - acc: 0.9894 - val_loss: 0.0851 - val_acc: 0.9818\n",
            "Epoch 17/50\n",
            "42/42 [==============================] - 8s 188ms/step - loss: 0.0175 - acc: 0.9955 - val_loss: 0.0984 - val_acc: 0.9848\n",
            "Epoch 18/50\n",
            "42/42 [==============================] - 8s 187ms/step - loss: 0.0152 - acc: 0.9962 - val_loss: 0.0928 - val_acc: 0.9848\n",
            "Epoch 19/50\n",
            "42/42 [==============================] - 9s 209ms/step - loss: 0.0078 - acc: 0.9992 - val_loss: 0.1193 - val_acc: 0.9848\n",
            "Epoch 20/50\n",
            "42/42 [==============================] - 8s 187ms/step - loss: 0.0074 - acc: 0.9977 - val_loss: 0.1134 - val_acc: 0.9848\n",
            "Epoch 21/50\n",
            "42/42 [==============================] - 8s 186ms/step - loss: 0.0061 - acc: 0.9985 - val_loss: 0.1022 - val_acc: 0.9879\n",
            "Epoch 22/50\n",
            "42/42 [==============================] - 8s 187ms/step - loss: 0.0099 - acc: 0.9977 - val_loss: 0.1005 - val_acc: 0.9879\n",
            "Epoch 23/50\n",
            "42/42 [==============================] - 8s 186ms/step - loss: 0.0062 - acc: 0.9985 - val_loss: 0.1122 - val_acc: 0.9879\n",
            "Epoch 24/50\n",
            "42/42 [==============================] - 8s 186ms/step - loss: 0.0028 - acc: 0.9992 - val_loss: 0.1301 - val_acc: 0.9879\n",
            "Epoch 25/50\n",
            "42/42 [==============================] - 8s 186ms/step - loss: 0.0101 - acc: 0.9977 - val_loss: 0.1289 - val_acc: 0.9788\n",
            "Epoch 26/50\n",
            "42/42 [==============================] - 8s 185ms/step - loss: 0.0066 - acc: 0.9977 - val_loss: 0.1088 - val_acc: 0.9848\n",
            "Epoch 27/50\n",
            "42/42 [==============================] - 8s 189ms/step - loss: 0.0029 - acc: 1.0000 - val_loss: 0.1426 - val_acc: 0.9788\n",
            "Epoch 28/50\n",
            "42/42 [==============================] - 8s 185ms/step - loss: 0.0020 - acc: 1.0000 - val_loss: 0.1410 - val_acc: 0.9848\n",
            "Epoch 29/50\n",
            "42/42 [==============================] - 8s 185ms/step - loss: 0.0036 - acc: 0.9992 - val_loss: 0.1348 - val_acc: 0.9848\n",
            "Epoch 30/50\n",
            "42/42 [==============================] - 8s 184ms/step - loss: 0.0027 - acc: 1.0000 - val_loss: 0.1391 - val_acc: 0.9848\n",
            "Epoch 31/50\n",
            "42/42 [==============================] - 8s 186ms/step - loss: 0.0011 - acc: 1.0000 - val_loss: 0.1533 - val_acc: 0.9848\n",
            "Epoch 32/50\n",
            "42/42 [==============================] - 8s 186ms/step - loss: 3.6756e-04 - acc: 1.0000 - val_loss: 0.1565 - val_acc: 0.9848\n",
            "Epoch 33/50\n",
            "42/42 [==============================] - 8s 187ms/step - loss: 2.5195e-04 - acc: 1.0000 - val_loss: 0.1602 - val_acc: 0.9848\n",
            "Epoch 34/50\n",
            "42/42 [==============================] - 8s 186ms/step - loss: 0.0012 - acc: 1.0000 - val_loss: 0.1485 - val_acc: 0.9818\n",
            "Epoch 35/50\n",
            "42/42 [==============================] - 8s 187ms/step - loss: 6.8467e-04 - acc: 1.0000 - val_loss: 0.1457 - val_acc: 0.9879\n",
            "Epoch 36/50\n",
            "42/42 [==============================] - 8s 186ms/step - loss: 0.0020 - acc: 1.0000 - val_loss: 0.1330 - val_acc: 0.9848\n"
          ]
        }
      ]
    },
    {
      "cell_type": "code",
      "source": [
        "plt.plot(history.history['loss'])\n",
        "plt.plot(history.history['val_loss'])\n",
        "plt.title('model loss')\n",
        "plt.ylabel('loss')\n",
        "plt.xlabel('epoch')\n",
        "plt.legend(['train', 'test'], loc='upper left')\n",
        "plt.show()"
      ],
      "metadata": {
        "colab": {
          "base_uri": "https://localhost:8080/",
          "height": 295
        },
        "id": "o1JyHUjq1Okj",
        "outputId": "ad7cf6fe-decb-4429-956a-5588bfd5f61f"
      },
      "execution_count": 15,
      "outputs": [
        {
          "output_type": "display_data",
          "data": {
            "text/plain": [
              "<Figure size 432x288 with 1 Axes>"
            ],
            "image/png": "[encoded data removed]"
          },
          "metadata": {
            "needs_background": "light"
          }
        }
      ]
    },
    {
      "cell_type": "code",
      "source": [
        "plt.plot(history.history['acc'])\n",
        "plt.plot(history.history['val_acc'])\n",
        "plt.title('model accuracy')\n",
        "plt.ylabel('accuracy')\n",
        "plt.xlabel('epoch')\n",
        "plt.legend(['train', 'test'], loc='upper left')\n",
        "plt.show()"
      ],
      "metadata": {
        "colab": {
          "base_uri": "https://localhost:8080/",
          "height": 295
        },
        "id": "wDMGx5Dc4lHz",
        "outputId": "09d590b4-aec5-4b7f-fe54-7378b42ccf50"
      },
      "execution_count": 16,
      "outputs": [
        {
          "output_type": "display_data",
          "data": {
            "text/plain": [
              "<Figure size 432x288 with 1 Axes>"
            ],
            "image/png": "[encoded data removed]"
          },
          "metadata": {
            "needs_background": "light"
          }
        }
      ]
    },
    {
      "cell_type": "code",
      "source": [
        "model.save('/content/drive/MyDrive/ZahidVai/CovidDetectionModel.h5')"
      ],
      "metadata": {
        "id": "_wiHAvur4o_a"
      },
      "execution_count": 17,
      "outputs": []
    },
    {
      "cell_type": "code",
      "source": [
        "from keras.models import load_model"
      ],
      "metadata": {
        "id": "aFjav7MeNTGk"
      },
      "execution_count": 19,
      "outputs": []
    },
    {
      "cell_type": "code",
      "source": [
        "Mod = load_model('/content/drive/MyDrive/ZahidVai/CovidDetectionModel.h5')"
      ],
      "metadata": {
        "id": "7JlqgXM8NYRL"
      },
      "execution_count": 20,
      "outputs": []
    },
    {
      "cell_type": "code",
      "source": [
        "image_path ='/content/drive/MyDrive/ZahidVai/lungSegdataset/test/normal/1.jpg'"
      ],
      "metadata": {
        "id": "PZEb9w-XN3V0"
      },
      "execution_count": 41,
      "outputs": []
    },
    {
      "cell_type": "code",
      "source": [
        "from keras.preprocessing import image\n",
        "test_image = image.load_img(image_path, target_size = (256,256,3))\n",
        "test_image = image.img_to_array(test_image)\n",
        "test_image = np.expand_dims(test_image, axis = 0)\n",
        "result = Mod.predict(test_image)\n",
        "# answer = Mod.predict_classes(test_image)\n",
        "answer = np.argmax(result,axis=1)\n",
        "train_gen.class_indices\n",
        "if result[0][0]==1:\n",
        "    prediction = 'covid'\n",
        "else :\n",
        "    prediction = 'normal'\n",
        "print(prediction)"
      ],
      "metadata": {
        "colab": {
          "base_uri": "https://localhost:8080/"
        },
        "id": "C1kbjQk8PGFV",
        "outputId": "72632c10-f4f7-40f6-d452-6fd2ebaa545b"
      },
      "execution_count": 42,
      "outputs": [
        {
          "output_type": "stream",
          "name": "stdout",
          "text": [
            "normal\n"
          ]
        }
      ]
    },
    {
      "cell_type": "code",
      "source": [
        "from keras import backend as K \n",
        "K.clear_session()"
      ],
      "metadata": {
        "id": "HyZa8a3cPz4l"
      },
      "execution_count": 51,
      "outputs": []
    },
    {
      "cell_type": "code",
      "source": [
        "img_path ='/content/drive/MyDrive/ZahidVai/lungSegdataset/test/covid/11.jpg'"
      ],
      "metadata": {
        "id": "An10cffqRmBf"
      },
      "execution_count": 52,
      "outputs": []
    },
    {
      "cell_type": "code",
      "source": [
        "from keras.preprocessing import image\n",
        "test_image = image.load_img(img_path, target_size = (256,256,3))\n",
        "test_image = image.img_to_array(test_image)\n",
        "test_image = np.expand_dims(test_image, axis = 0)\n",
        "result = Mod.predict(test_image)\n",
        "answer = np.argmax(result,axis=1)\n",
        "train_gen.class_indices\n",
        "if result[0][0]==1:\n",
        "    prediction = 'covid'\n",
        "else :\n",
        "    prediction = 'normal'\n",
        "print(prediction)"
      ],
      "metadata": {
        "colab": {
          "base_uri": "https://localhost:8080/"
        },
        "id": "2pJstzt0R45q",
        "outputId": "957487e3-907b-4f27-8422-9ed5c202e501"
      },
      "execution_count": 53,
      "outputs": [
        {
          "output_type": "stream",
          "name": "stdout",
          "text": [
            "covid\n"
          ]
        }
      ]
    },
    {
      "cell_type": "code",
      "source": [
        ""
      ],
      "metadata": {
        "id": "xLQ4Cw7cTK7k"
      },
      "execution_count": null,
      "outputs": []
    }
  ]
}